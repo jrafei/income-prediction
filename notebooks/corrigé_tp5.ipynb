{
 "cells": [
  {
   "cell_type": "markdown",
   "id": "cd6e2fca-0f93-4d31-8a13-58bab208264a",
   "metadata": {},
   "source": [
    "# Apprentissage d’ensemble et forêts aléatoires\n",
    "## Classification multi-classe des objets stellaires\n"
   ]
  },
  {
   "cell_type": "code",
   "execution_count": 15,
   "id": "02023026-b46a-483f-b28c-043f1ebec4e5",
   "metadata": {},
   "outputs": [],
   "source": [
    "# WARNINGS\n",
    "import warnings\n",
    "warnings.filterwarnings('ignore')\n",
    "\n",
    "# NUMPY\n",
    "import numpy as np\n",
    "\n",
    "# SCIPY \n",
    "import scipy \n",
    "# STATS\n",
    "import scipy.stats as stats\n",
    "from scipy.stats import norm, skew\n",
    "\n",
    "# MATPLOTLIB\n",
    "import matplotlib as mlp\n",
    "import matplotlib.pyplot as plt\n",
    "%matplotlib inline \n",
    "# plt.style.use('fivethirtyeight') \n",
    "\n",
    "# PANDAS\n",
    "import pandas as pd \n",
    "pd.set_option(\"display.max_rows\", None, \"display.max_columns\", None) \n",
    "\n",
    "# SEABRON\n",
    "import seaborn as sns\n",
    "\n",
    "# PLOTLY \n",
    "import plotly.express as px\n",
    "import plotly\n",
    "\n",
    "# SCIKIT-LEARN: PRE-PROCESSING\n",
    "from sklearn.preprocessing import LabelEncoder, OrdinalEncoder # encodage des variables catégorielles ordinales\n",
    "from sklearn.preprocessing import LabelBinarizer, OneHotEncoder # encodage des variables catégorielles nominales\n",
    "from sklearn.preprocessing import StandardScaler # standardisation des variables numériques\n",
    "from sklearn.preprocessing import MinMaxScaler # normalisation des variables numériques\n",
    "from sklearn.preprocessing import RobustScaler # normalisation des variables numériques\n",
    "from sklearn.impute import SimpleImputer # imputation des valeurs manquantes\n",
    "from sklearn.impute import KNNImputer # imputation des valeurs manquantes par la méthode KNN\n",
    "from sklearn.feature_selection  import SelectKBest # sélectionner \n",
    "from sklearn. preprocessing import PolynomialFeatures \n",
    "\n",
    "# MODELES PREDICTIFS\n",
    "\n",
    "## REGRESSION\n",
    "from sklearn.linear_model import LogisticRegression # régréssion logistique\n",
    "\n",
    "## SVM \n",
    "from sklearn.svm import LinearSVC # machines à vecteurs de support (linéaire)\n",
    "from sklearn.svm import SVC # machines à vecteurs de support (non-linéaire)\n",
    "\n",
    "## SGD\n",
    "from sklearn.linear_model import SGDClassifier #  classifieurs (SVM, régression logistique, etc.) avec un algorithme SGD\n",
    "\n",
    "## ARBRES, FORETS, APRRENTISSAGE D'ENSEMBLE\n",
    "from sklearn.tree import DecisionTreeClassifier # arbres classification\n",
    "from sklearn.ensemble import RandomForestClassifier \n",
    "from sklearn.ensemble import BaggingClassifier\n",
    "from sklearn.ensemble import AdaBoostClassifier\n",
    "from sklearn.ensemble import GradientBoostingClassifier \n",
    "\n",
    "# XGBoost\n",
    "from xgboost import XGBClassifier, XGBRFClassifier\n",
    "from xgboost import plot_tree, plot_importance\n",
    "\n",
    "## KNN\n",
    "from sklearn.neighbors import KNeighborsClassifier # KPP voisins\n",
    "\n",
    "## YellowBrick\n",
    "from yellowbrick.model_selection import LearningCurve\n",
    "from yellowbrick.model_selection import ValidationCurve\n",
    "\n",
    "# VALIDATION CROISEE + OPTIMISATION\n",
    "from sklearn.model_selection import train_test_split # séparation des données en train et test set\n",
    "from sklearn.model_selection import cross_val_score # validation croisée pour comparaison entre modèles\n",
    "from sklearn.model_selection import validation_curve # courbe de validation: visulaisr les scores lors du choix d'un hyperparamétre\n",
    "from sklearn.model_selection import GridSearchCV # tester plusieurs hyperparamètres\n",
    "from sklearn.model_selection import RandomizedSearchCV # tester arbitrairement plusieurs hyperparamètres\n",
    "from sklearn.model_selection import learning_curve # courbe d'apprentissage: visualisation les scores du train et du validation sets en fonction des quanitiés des données\n",
    " \n",
    "## EVALUATION: METRIQUES DE CLASSIFICATION\n",
    "from sklearn.metrics import accuracy_score # exactitude (accuracy)\n",
    "from sklearn.metrics import f1_score # F1-score\n",
    "from sklearn.metrics import confusion_matrix # matrice de confusion\n",
    "# from sklearn.metrics import plot_confusion_matrix # graphique de la matrice de confusion\n",
    "from sklearn.metrics import ConfusionMatrixDisplay\n",
    "from sklearn.metrics import classification_report # rapport pour le modèle de classification\n",
    "from sklearn.model_selection import LearningCurveDisplay\n",
    "from sklearn.model_selection import cross_val_score\n",
    "## EVALUATION: COURBE ROC\n",
    "from sklearn.metrics import auc # aire sous la courbe \n",
    "from sklearn.metrics import roc_auc_score\n",
    "from sklearn.metrics import roc_curve \n",
    "from sklearn.metrics import precision_recall_curve #\n",
    "from sklearn.metrics import f1_score, recall_score\n",
    "\n",
    "\n",
    "# PIPELINE\n",
    "from sklearn.pipeline import make_pipeline\n",
    "\n",
    "# TRANSFORMATEUR COMPOSITE (PRE-PROCESSOR + MODELE)\n",
    "from sklearn.compose import make_column_transformer\n"
   ]
  },
  {
   "cell_type": "code",
   "execution_count": 16,
   "id": "6cd7ba7e",
   "metadata": {},
   "outputs": [],
   "source": [
    "# Import libraries and modules\n",
    "\n",
    "# Import the necessary libraries\n",
    "import sys\n",
    "import os\n",
    "\n",
    "# Add the project directory to the sys.path\n",
    "sys.path.append(os.path.abspath(os.path.join(os.getcwd(), '..')))\n",
    "\n",
    "# Import everything from lib_import.py, data_exploring.py, data_preprocessing.py \n",
    "from lib.lib_import import *\n",
    "from src.data_preprocessing import *\n",
    "from src.model_evaluation import *\n",
    "\n",
    "# Import the data\n",
    "from data.data_extract import load_data"
   ]
  },
  {
   "cell_type": "markdown",
   "id": "f39b3040-fef9-4142-8403-f980def7c790",
   "metadata": {},
   "source": [
    "# Chargement des données"
   ]
  },
  {
   "cell_type": "code",
   "execution_count": 17,
   "id": "171a539d-97f6-44df-b594-c901c6e69dd5",
   "metadata": {},
   "outputs": [
    {
     "data": {
      "text/html": [
       "<div>\n",
       "<style scoped>\n",
       "    .dataframe tbody tr th:only-of-type {\n",
       "        vertical-align: middle;\n",
       "    }\n",
       "\n",
       "    .dataframe tbody tr th {\n",
       "        vertical-align: top;\n",
       "    }\n",
       "\n",
       "    .dataframe thead th {\n",
       "        text-align: right;\n",
       "    }\n",
       "</style>\n",
       "<table border=\"1\" class=\"dataframe\">\n",
       "  <thead>\n",
       "    <tr style=\"text-align: right;\">\n",
       "      <th></th>\n",
       "      <th>age</th>\n",
       "      <th>workclass</th>\n",
       "      <th>fnlwgt</th>\n",
       "      <th>education</th>\n",
       "      <th>education-num</th>\n",
       "      <th>marital-status</th>\n",
       "      <th>occupation</th>\n",
       "      <th>relationship</th>\n",
       "      <th>race</th>\n",
       "      <th>sex</th>\n",
       "      <th>capital-gain</th>\n",
       "      <th>capital-loss</th>\n",
       "      <th>hours-per-week</th>\n",
       "      <th>native-country</th>\n",
       "      <th>income</th>\n",
       "    </tr>\n",
       "  </thead>\n",
       "  <tbody>\n",
       "    <tr>\n",
       "      <th>0</th>\n",
       "      <td>39</td>\n",
       "      <td>State-gov</td>\n",
       "      <td>77516</td>\n",
       "      <td>Bachelors</td>\n",
       "      <td>13</td>\n",
       "      <td>Never-married</td>\n",
       "      <td>Adm-clerical</td>\n",
       "      <td>Not-in-family</td>\n",
       "      <td>White</td>\n",
       "      <td>Male</td>\n",
       "      <td>2174</td>\n",
       "      <td>0</td>\n",
       "      <td>40</td>\n",
       "      <td>United-States</td>\n",
       "      <td>&lt;=50K</td>\n",
       "    </tr>\n",
       "    <tr>\n",
       "      <th>1</th>\n",
       "      <td>50</td>\n",
       "      <td>Self-emp-not-inc</td>\n",
       "      <td>83311</td>\n",
       "      <td>Bachelors</td>\n",
       "      <td>13</td>\n",
       "      <td>Married-civ-spouse</td>\n",
       "      <td>Exec-managerial</td>\n",
       "      <td>Husband</td>\n",
       "      <td>White</td>\n",
       "      <td>Male</td>\n",
       "      <td>0</td>\n",
       "      <td>0</td>\n",
       "      <td>13</td>\n",
       "      <td>United-States</td>\n",
       "      <td>&lt;=50K</td>\n",
       "    </tr>\n",
       "    <tr>\n",
       "      <th>2</th>\n",
       "      <td>38</td>\n",
       "      <td>Private</td>\n",
       "      <td>215646</td>\n",
       "      <td>HS-grad</td>\n",
       "      <td>9</td>\n",
       "      <td>Divorced</td>\n",
       "      <td>Handlers-cleaners</td>\n",
       "      <td>Not-in-family</td>\n",
       "      <td>White</td>\n",
       "      <td>Male</td>\n",
       "      <td>0</td>\n",
       "      <td>0</td>\n",
       "      <td>40</td>\n",
       "      <td>United-States</td>\n",
       "      <td>&lt;=50K</td>\n",
       "    </tr>\n",
       "    <tr>\n",
       "      <th>3</th>\n",
       "      <td>53</td>\n",
       "      <td>Private</td>\n",
       "      <td>234721</td>\n",
       "      <td>11th</td>\n",
       "      <td>7</td>\n",
       "      <td>Married-civ-spouse</td>\n",
       "      <td>Handlers-cleaners</td>\n",
       "      <td>Husband</td>\n",
       "      <td>Black</td>\n",
       "      <td>Male</td>\n",
       "      <td>0</td>\n",
       "      <td>0</td>\n",
       "      <td>40</td>\n",
       "      <td>United-States</td>\n",
       "      <td>&lt;=50K</td>\n",
       "    </tr>\n",
       "    <tr>\n",
       "      <th>4</th>\n",
       "      <td>28</td>\n",
       "      <td>Private</td>\n",
       "      <td>338409</td>\n",
       "      <td>Bachelors</td>\n",
       "      <td>13</td>\n",
       "      <td>Married-civ-spouse</td>\n",
       "      <td>Prof-specialty</td>\n",
       "      <td>Wife</td>\n",
       "      <td>Black</td>\n",
       "      <td>Female</td>\n",
       "      <td>0</td>\n",
       "      <td>0</td>\n",
       "      <td>40</td>\n",
       "      <td>Cuba</td>\n",
       "      <td>&lt;=50K</td>\n",
       "    </tr>\n",
       "    <tr>\n",
       "      <th>5</th>\n",
       "      <td>37</td>\n",
       "      <td>Private</td>\n",
       "      <td>284582</td>\n",
       "      <td>Masters</td>\n",
       "      <td>14</td>\n",
       "      <td>Married-civ-spouse</td>\n",
       "      <td>Exec-managerial</td>\n",
       "      <td>Wife</td>\n",
       "      <td>White</td>\n",
       "      <td>Female</td>\n",
       "      <td>0</td>\n",
       "      <td>0</td>\n",
       "      <td>40</td>\n",
       "      <td>United-States</td>\n",
       "      <td>&lt;=50K</td>\n",
       "    </tr>\n",
       "    <tr>\n",
       "      <th>6</th>\n",
       "      <td>49</td>\n",
       "      <td>Private</td>\n",
       "      <td>160187</td>\n",
       "      <td>9th</td>\n",
       "      <td>5</td>\n",
       "      <td>Married-spouse-absent</td>\n",
       "      <td>Other-service</td>\n",
       "      <td>Not-in-family</td>\n",
       "      <td>Black</td>\n",
       "      <td>Female</td>\n",
       "      <td>0</td>\n",
       "      <td>0</td>\n",
       "      <td>16</td>\n",
       "      <td>Jamaica</td>\n",
       "      <td>&lt;=50K</td>\n",
       "    </tr>\n",
       "    <tr>\n",
       "      <th>7</th>\n",
       "      <td>52</td>\n",
       "      <td>Self-emp-not-inc</td>\n",
       "      <td>209642</td>\n",
       "      <td>HS-grad</td>\n",
       "      <td>9</td>\n",
       "      <td>Married-civ-spouse</td>\n",
       "      <td>Exec-managerial</td>\n",
       "      <td>Husband</td>\n",
       "      <td>White</td>\n",
       "      <td>Male</td>\n",
       "      <td>0</td>\n",
       "      <td>0</td>\n",
       "      <td>45</td>\n",
       "      <td>United-States</td>\n",
       "      <td>&gt;50K</td>\n",
       "    </tr>\n",
       "    <tr>\n",
       "      <th>8</th>\n",
       "      <td>31</td>\n",
       "      <td>Private</td>\n",
       "      <td>45781</td>\n",
       "      <td>Masters</td>\n",
       "      <td>14</td>\n",
       "      <td>Never-married</td>\n",
       "      <td>Prof-specialty</td>\n",
       "      <td>Not-in-family</td>\n",
       "      <td>White</td>\n",
       "      <td>Female</td>\n",
       "      <td>14084</td>\n",
       "      <td>0</td>\n",
       "      <td>50</td>\n",
       "      <td>United-States</td>\n",
       "      <td>&gt;50K</td>\n",
       "    </tr>\n",
       "    <tr>\n",
       "      <th>9</th>\n",
       "      <td>42</td>\n",
       "      <td>Private</td>\n",
       "      <td>159449</td>\n",
       "      <td>Bachelors</td>\n",
       "      <td>13</td>\n",
       "      <td>Married-civ-spouse</td>\n",
       "      <td>Exec-managerial</td>\n",
       "      <td>Husband</td>\n",
       "      <td>White</td>\n",
       "      <td>Male</td>\n",
       "      <td>5178</td>\n",
       "      <td>0</td>\n",
       "      <td>40</td>\n",
       "      <td>United-States</td>\n",
       "      <td>&gt;50K</td>\n",
       "    </tr>\n",
       "  </tbody>\n",
       "</table>\n",
       "</div>"
      ],
      "text/plain": [
       "   age         workclass  fnlwgt  education  education-num  \\\n",
       "0   39         State-gov   77516  Bachelors             13   \n",
       "1   50  Self-emp-not-inc   83311  Bachelors             13   \n",
       "2   38           Private  215646    HS-grad              9   \n",
       "3   53           Private  234721       11th              7   \n",
       "4   28           Private  338409  Bachelors             13   \n",
       "5   37           Private  284582    Masters             14   \n",
       "6   49           Private  160187        9th              5   \n",
       "7   52  Self-emp-not-inc  209642    HS-grad              9   \n",
       "8   31           Private   45781    Masters             14   \n",
       "9   42           Private  159449  Bachelors             13   \n",
       "\n",
       "          marital-status         occupation   relationship   race     sex  \\\n",
       "0          Never-married       Adm-clerical  Not-in-family  White    Male   \n",
       "1     Married-civ-spouse    Exec-managerial        Husband  White    Male   \n",
       "2               Divorced  Handlers-cleaners  Not-in-family  White    Male   \n",
       "3     Married-civ-spouse  Handlers-cleaners        Husband  Black    Male   \n",
       "4     Married-civ-spouse     Prof-specialty           Wife  Black  Female   \n",
       "5     Married-civ-spouse    Exec-managerial           Wife  White  Female   \n",
       "6  Married-spouse-absent      Other-service  Not-in-family  Black  Female   \n",
       "7     Married-civ-spouse    Exec-managerial        Husband  White    Male   \n",
       "8          Never-married     Prof-specialty  Not-in-family  White  Female   \n",
       "9     Married-civ-spouse    Exec-managerial        Husband  White    Male   \n",
       "\n",
       "   capital-gain  capital-loss  hours-per-week native-country income  \n",
       "0          2174             0              40  United-States  <=50K  \n",
       "1             0             0              13  United-States  <=50K  \n",
       "2             0             0              40  United-States  <=50K  \n",
       "3             0             0              40  United-States  <=50K  \n",
       "4             0             0              40           Cuba  <=50K  \n",
       "5             0             0              40  United-States  <=50K  \n",
       "6             0             0              16        Jamaica  <=50K  \n",
       "7             0             0              45  United-States   >50K  \n",
       "8         14084             0              50  United-States   >50K  \n",
       "9          5178             0              40  United-States   >50K  "
      ]
     },
     "execution_count": 17,
     "metadata": {},
     "output_type": "execute_result"
    }
   ],
   "source": [
    "# Load the data\n",
    "\n",
    "df_data = load_data()\n",
    "df_data.head(10)"
   ]
  },
  {
   "cell_type": "code",
   "execution_count": 18,
   "id": "a586d060",
   "metadata": {},
   "outputs": [],
   "source": [
    "df = df_data.copy()"
   ]
  },
  {
   "cell_type": "code",
   "execution_count": 19,
   "id": "ae1339b4",
   "metadata": {},
   "outputs": [],
   "source": [
    "df = fix_target(df)"
   ]
  },
  {
   "cell_type": "code",
   "execution_count": 20,
   "id": "2318776d",
   "metadata": {},
   "outputs": [
    {
     "data": {
      "text/plain": [
       "48"
      ]
     },
     "execution_count": 20,
     "metadata": {},
     "output_type": "execute_result"
    }
   ],
   "source": [
    "df.duplicated().sum()"
   ]
  },
  {
   "cell_type": "code",
   "execution_count": 21,
   "id": "5aad6ad9",
   "metadata": {},
   "outputs": [],
   "source": [
    "df.drop_duplicates(inplace=True)"
   ]
  },
  {
   "cell_type": "code",
   "execution_count": 22,
   "id": "7ceb63c1",
   "metadata": {},
   "outputs": [],
   "source": [
    "df_avec_inutile_columns = df.copy()"
   ]
  },
  {
   "cell_type": "code",
   "execution_count": 23,
   "id": "4ff4cec0",
   "metadata": {},
   "outputs": [],
   "source": [
    "df_sans_inutile_columns = df.copy()"
   ]
  },
  {
   "cell_type": "code",
   "execution_count": 24,
   "id": "d99be048",
   "metadata": {},
   "outputs": [],
   "source": [
    "df_sans_inutile_columns = remove_inutile_column(df_sans_inutile_columns)"
   ]
  },
  {
   "cell_type": "code",
   "execution_count": 25,
   "id": "7c854ed6",
   "metadata": {},
   "outputs": [
    {
     "data": {
      "text/plain": [
       "6233"
      ]
     },
     "execution_count": 25,
     "metadata": {},
     "output_type": "execute_result"
    }
   ],
   "source": [
    "df_sans_inutile_columns.duplicated().sum()"
   ]
  },
  {
   "cell_type": "code",
   "execution_count": 26,
   "id": "fe64fc56",
   "metadata": {},
   "outputs": [
    {
     "data": {
      "text/plain": [
       "0"
      ]
     },
     "execution_count": 26,
     "metadata": {},
     "output_type": "execute_result"
    }
   ],
   "source": [
    "df_avec_inutile_columns.duplicated().sum()"
   ]
  },
  {
   "cell_type": "code",
   "execution_count": 27,
   "id": "8acf524b",
   "metadata": {},
   "outputs": [
    {
     "data": {
      "text/plain": [
       "6530"
      ]
     },
     "execution_count": 27,
     "metadata": {},
     "output_type": "execute_result"
    }
   ],
   "source": [
    "df_sans_inutile_columns = regroupe_categories(df_sans_inutile_columns)\n",
    "df_sans_inutile_columns.duplicated().sum()"
   ]
  },
  {
   "cell_type": "code",
   "execution_count": 28,
   "id": "14f96d33",
   "metadata": {},
   "outputs": [
    {
     "data": {
      "text/plain": [
       "0"
      ]
     },
     "execution_count": 28,
     "metadata": {},
     "output_type": "execute_result"
    }
   ],
   "source": [
    "df_avec_inutile_columns = regroupe_categories(df_avec_inutile_columns)\n",
    "df_avec_inutile_columns.duplicated().sum()"
   ]
  },
  {
   "cell_type": "code",
   "execution_count": 25,
   "id": "d71f9492",
   "metadata": {},
   "outputs": [],
   "source": [
    "df_sans_remove_inutile_column = df_data.copy()"
   ]
  },
  {
   "cell_type": "code",
   "execution_count": 26,
   "id": "57c74d15",
   "metadata": {},
   "outputs": [],
   "source": [
    "df_sans_remove_inutile_column = fix_target(df_sans_remove_inutile_column)"
   ]
  },
  {
   "cell_type": "code",
   "execution_count": 27,
   "id": "3eceef0f",
   "metadata": {},
   "outputs": [],
   "source": [
    "df_sans_remove_inutile_column = drop_outliers(df)"
   ]
  },
  {
   "cell_type": "code",
   "execution_count": 28,
   "id": "f32dd21c",
   "metadata": {},
   "outputs": [
    {
     "data": {
      "text/plain": [
       "6230"
      ]
     },
     "execution_count": 28,
     "metadata": {},
     "output_type": "execute_result"
    }
   ],
   "source": [
    "df_sans_remove_inutile_column.duplicated().sum()"
   ]
  },
  {
   "cell_type": "code",
   "execution_count": 29,
   "id": "438d6bc1",
   "metadata": {},
   "outputs": [],
   "source": [
    "df_sans_remove_inutile_column.drop_duplicates(inplace=True)"
   ]
  },
  {
   "cell_type": "code",
   "execution_count": 30,
   "id": "dbe168ec",
   "metadata": {},
   "outputs": [
    {
     "data": {
      "text/plain": [
       "0"
      ]
     },
     "execution_count": 30,
     "metadata": {},
     "output_type": "execute_result"
    }
   ],
   "source": [
    "df_sans_remove_inutile_column.duplicated().sum()"
   ]
  },
  {
   "cell_type": "code",
   "execution_count": 31,
   "id": "b7b81545",
   "metadata": {},
   "outputs": [],
   "source": [
    "df_sans_remove_inutile_column = regroupe_categories(df_sans_remove_inutile_column)"
   ]
  },
  {
   "cell_type": "code",
   "execution_count": 32,
   "id": "51112fcd",
   "metadata": {},
   "outputs": [
    {
     "data": {
      "text/plain": [
       "296"
      ]
     },
     "execution_count": 32,
     "metadata": {},
     "output_type": "execute_result"
    }
   ],
   "source": [
    "df_sans_remove_inutile_column.duplicated().sum()"
   ]
  },
  {
   "cell_type": "code",
   "execution_count": null,
   "id": "2ca50d65",
   "metadata": {},
   "outputs": [],
   "source": [
    "df = preprocess(df)\n",
    "df.head(10)"
   ]
  },
  {
   "cell_type": "code",
   "execution_count": null,
   "id": "e3c77fde",
   "metadata": {},
   "outputs": [],
   "source": [
    "df.shape"
   ]
  },
  {
   "cell_type": "code",
   "execution_count": null,
   "id": "0f704649",
   "metadata": {},
   "outputs": [],
   "source": [
    "df_train, df_test = seperate_train_test(df, random_state=42)"
   ]
  },
  {
   "cell_type": "code",
   "execution_count": null,
   "id": "873c0c3a",
   "metadata": {},
   "outputs": [],
   "source": [
    "cat_features = get_cat_features(df)\n",
    "cont_features = get_cont_features(df)"
   ]
  },
  {
   "cell_type": "code",
   "execution_count": null,
   "id": "c4f62594",
   "metadata": {},
   "outputs": [],
   "source": [
    "df_train,df_test = impute_missing_cat_values(df_train, df_test,cat_features,strategy='most_frequent')\n"
   ]
  },
  {
   "cell_type": "code",
   "execution_count": null,
   "id": "3aa79a6b",
   "metadata": {},
   "outputs": [],
   "source": [
    "df_train,df_test = standardize(df_train, df_test, cont_features)"
   ]
  },
  {
   "cell_type": "code",
   "execution_count": null,
   "id": "8920da76",
   "metadata": {},
   "outputs": [],
   "source": [
    "df_train,df_test = encode_cat_features_onehot(df_train, df_test, cat_features)"
   ]
  },
  {
   "cell_type": "code",
   "execution_count": null,
   "id": "1aabd132",
   "metadata": {},
   "outputs": [],
   "source": [
    "df_train.shape"
   ]
  },
  {
   "cell_type": "markdown",
   "id": "bd7f1d3a-64cd-4b53-8c0c-81eb6402b604",
   "metadata": {},
   "source": [
    "# Modélisation prédictive"
   ]
  },
  {
   "cell_type": "code",
   "execution_count": null,
   "id": "c24ef70b",
   "metadata": {},
   "outputs": [],
   "source": [
    "X_train = df_train.values\n",
    "X_test = df_test.values\n",
    "\n",
    "y_train = df_train['>50K'].values\n",
    "y_test = df_test['>50K'].values"
   ]
  },
  {
   "cell_type": "code",
   "execution_count": null,
   "id": "aeda7214",
   "metadata": {},
   "outputs": [],
   "source": [
    "df_test.shape"
   ]
  },
  {
   "cell_type": "code",
   "execution_count": null,
   "id": "c18cbc20",
   "metadata": {},
   "outputs": [],
   "source": [
    "df_train.shape"
   ]
  },
  {
   "cell_type": "markdown",
   "id": "cf1d1651-a736-4bc9-952c-7470539af462",
   "metadata": {},
   "source": [
    "## Arbres de décision"
   ]
  },
  {
   "cell_type": "code",
   "execution_count": null,
   "id": "62779bd1-0293-4c2e-af7e-9004f6d2fe68",
   "metadata": {},
   "outputs": [],
   "source": [
    "tree_descision =  DecisionTreeClassifier(random_state=99)"
   ]
  },
  {
   "cell_type": "code",
   "execution_count": null,
   "id": "d066ad28",
   "metadata": {},
   "outputs": [],
   "source": [
    "## Régression logistique\n",
    "tree_descision.fit(X_train, y_train)\n",
    "y_pred = tree_descision.predict(X_test)\n",
    "\n",
    "\n",
    "plot_confusion_matrix_sns(y_test, y_pred, \"Arbre de decision\")\n",
    "N, train_score, val_score = learning_curve(tree_descision, X_train, y_train, \n",
    "                                           cv=5, scoring='f1',\n",
    "                                           train_sizes=np.linspace(0.1, 1, 10))\n",
    "\n",
    "plt.figure(figsize=(12,8))\n",
    "plt.plot(N, train_score.mean(axis=1), label='train score')\n",
    "plt.plot(N, val_score.mean(axis=1), label='validation score')\n",
    "plt.legend()\n",
    "plt.title(\"Courbe de validation pour la régression logistique\")\n",
    "plt.ylabel('score')\n",
    "plt.xlabel('Train size ' r'$\\lambda = \\frac{1}{C}$')\n",
    "plt.show()"
   ]
  },
  {
   "cell_type": "code",
   "execution_count": null,
   "id": "caf86e5d-1a78-4caf-853e-f1f18d201a97",
   "metadata": {},
   "outputs": [],
   "source": [
    "## TreeClassifierDecision\n",
    "# class sklearn.tree.DecisionTreeClassifier(\n",
    "# *, criterion='gini', splitter='best', max_depth=None, min_samples_split=2,\n",
    "# min_samples_leaf=1, min_weight_fraction_leaf=0.0, max_features=None, random_state=None, max_leaf_nodes=None, min_impurity_decrease=0.0, class_weight=None, ccp_alpha=0.0, monotonic_cst=None)[source]#"
   ]
  },
  {
   "cell_type": "code",
   "execution_count": null,
   "id": "0ac13388-8d1e-442c-83ba-440dbd636200",
   "metadata": {},
   "outputs": [],
   "source": [
    "tree_max_depth_10 = DecisionTreeClassifier(max_depth=10, random_state=99)\n",
    "tree_max_depth_10_pipe = make_pipeline( tree_max_depth_10)\n",
    "evaluation_learning_curve(tree_max_depth_10_pipe, \"decisiontreeclassifier\", df_train, y_train, score='f1_micro', cv=5)"
   ]
  },
  {
   "cell_type": "code",
   "execution_count": null,
   "id": "e4fc1877-a137-44c0-a4c0-1e21e6b8714b",
   "metadata": {},
   "outputs": [],
   "source": [
    "# Eval val curve\n",
    "\n",
    "def evaluation_validation_curve(model_pipe, model_name, df_train, y_train, param_name, param_range, score, cv):\n",
    "    model_pipe.fit(df_train, y_train)\n",
    "    # y_pred = model_pipe.predict(df_test)\n",
    "    # fig = px.imshow(confusion_matrix(y_test, y_pred),  text_auto=True, #'.2f', \n",
    "                    # aspect='equal', width=400, height=400,\n",
    "                    # title = 'Matrice de confusion ' + model_name)\n",
    "\n",
    "    # fig.update_layout(\n",
    "    # margin=dict(l=20, r=20, t=20, b=20),\n",
    "    # paper_bgcolor=\"LightSteelBlue\",\n",
    "# )\n",
    "    # fig.show()\n",
    "  \n",
    "    X_train = model_pipe.named_steps[\"columntransformer\"].fit_transform(df_train)\n",
    "   \n",
    "    model = model_pipe.named_steps[model_name]\n",
    "\n",
    "    val_curve = ValidationCurve(model_pipe.named_steps[model_name], param_name=param_name, param_range=param_range, cv=cv, scoring=score)\n",
    "    # visualizer = LearningCurve(\n",
    "    # model_pipe.named_steps[model_name], cv=cv, scoring=score, train_sizes=train_sizes, \n",
    "# )\n",
    "\n",
    "    \n",
    "    val_curve.fit(X_train, y_train)\n",
    "    val_curve.show()"
   ]
  },
  {
   "cell_type": "code",
   "execution_count": null,
   "id": "182e6b90-eaa7-4efc-bf99-1ae91b73a5dc",
   "metadata": {},
   "outputs": [],
   "source": [
    "tree_max_depth = DecisionTreeClassifier(max_depth=10, random_state=99)"
   ]
  },
  {
   "cell_type": "code",
   "execution_count": null,
   "id": "22025928-d0ef-4d87-ae26-059f35507586",
   "metadata": {},
   "outputs": [],
   "source": [
    "evaluation_validation_curve(\n",
    "    model_pipe=tree_descision,\n",
    "    model_name=\"decisiontreeclassifier\",\n",
    "    df_train=df_train,\n",
    "    y_train=y_train,\n",
    "    param_name=\"max_depth\",\n",
    "    param_range=[3, 5, 8, 11, 12], \n",
    "    score='f1_micro',\n",
    "    cv=5,\n",
    ")"
   ]
  },
  {
   "cell_type": "code",
   "execution_count": null,
   "id": "da039199-c511-4155-88f4-a98d89ad94aa",
   "metadata": {},
   "outputs": [],
   "source": [
    "evaluation_validation_curve(\n",
    "    model_pipe=tree_descision,\n",
    "    model_name=\"decisiontreeclassifier\",\n",
    "    df_train=df_train,\n",
    "    y_train=y_train,\n",
    "    param_name=\"min_samples_leaf\",\n",
    "    param_range=[2, 4, 6, 8, 10, 12, 14, 16, 20, 24, 28, 32], \n",
    "    score='f1_micro',\n",
    "    cv=5,\n",
    ")"
   ]
  },
  {
   "cell_type": "markdown",
   "id": "65d32f64-a034-434c-b547-63bd42a221d0",
   "metadata": {},
   "source": [
    "#  Bagging : Forêts Aléatoires"
   ]
  },
  {
   "cell_type": "code",
   "execution_count": null,
   "id": "7dffba82-d492-4f2c-b647-c8ade6b33fb1",
   "metadata": {},
   "outputs": [],
   "source": [
    "random_forest = make_pipeline(preprocessor, RandomForestClassifier(random_state=99))\n",
    "random_forest"
   ]
  },
  {
   "cell_type": "code",
   "execution_count": null,
   "id": "4ee7f346-d34e-43ef-96bb-902e4b4cc1ff",
   "metadata": {},
   "outputs": [],
   "source": [
    "print(random_forest)"
   ]
  },
  {
   "cell_type": "code",
   "execution_count": null,
   "id": "66d5d66b-27af-4a8c-a045-3c529e6bc101",
   "metadata": {},
   "outputs": [],
   "source": []
  },
  {
   "cell_type": "code",
   "execution_count": null,
   "id": "e77e46ce-61a5-4128-89ee-3afdfea68295",
   "metadata": {},
   "outputs": [],
   "source": [
    "feature_importances = evaluation_learning_curve(random_forest, \"randomforestclassifier\", df_train, y_train, score='f1_micro', cv=5)"
   ]
  },
  {
   "cell_type": "code",
   "execution_count": null,
   "id": "6140fe7c-125f-4f2b-9786-69db42d82e36",
   "metadata": {},
   "outputs": [],
   "source": [
    "evaluation_validation_curve(\n",
    "    model_pipe=random_forest,\n",
    "    model_name=\"randomforestclassifier\",\n",
    "    df_train=df_train,\n",
    "    y_train=y_train,\n",
    "    param_name=\"min_samples_leaf\",\n",
    "    param_range=[2, 4, 6, 8, 10, 12, 14, 16, 20, 24, 28, 32], \n",
    "    score='f1_micro',\n",
    "    cv=5,\n",
    ")"
   ]
  },
  {
   "cell_type": "markdown",
   "id": "bb0bc2d6-546c-465f-aa9b-ac378b451f2c",
   "metadata": {},
   "source": [
    "## Importance des features"
   ]
  },
  {
   "cell_type": "code",
   "execution_count": null,
   "id": "1182175d-0caa-47c4-beb8-363d2ace86d8",
   "metadata": {},
   "outputs": [],
   "source": [
    "feature_importances"
   ]
  },
  {
   "cell_type": "code",
   "execution_count": null,
   "id": "3c8e3d25-8206-4838-ae00-19baad48f590",
   "metadata": {},
   "outputs": [],
   "source": [
    "# on va injecter ce tableau dans un dataframe\n",
    "df_feature_importances = pd.DataFrame(feature_importances, index=df_train.columns)\n",
    "df_feature_importances.T"
   ]
  },
  {
   "cell_type": "code",
   "execution_count": null,
   "id": "a83bfd2d-a6c1-4d73-9d4a-d987a777631b",
   "metadata": {},
   "outputs": [],
   "source": [
    "plt.rcParams[\"figure.figsize\"] = (10,2)\n",
    "N = len(df_train.columns)\n",
    "score_importances = (df_feature_importances.values.reshape(1,-1)[0])\n",
    "ind = np.arange(N)    # the x locations for the groups\n",
    "width = 0.35       # the width of the bars: can also be len(x) sequence\n",
    "\n",
    "plt.bar(ind, score_importances, width)\n",
    "plt.ylabel('Scores')\n",
    "plt.title('Score d importance par feature')\n",
    "plt.xticks(ind, list(df_train.columns.values))\n",
    "plt.show()"
   ]
  },
  {
   "cell_type": "markdown",
   "id": "1aa15ede-5ae3-400d-a6a0-d0aea8c476eb",
   "metadata": {},
   "source": [
    "## Erreur de classification"
   ]
  },
  {
   "cell_type": "code",
   "execution_count": null,
   "id": "f3500f1e-b31f-4f13-9598-9c835db577ac",
   "metadata": {},
   "outputs": [],
   "source": [
    "random_forest_clf = make_pipeline(preprocessor, RandomForestClassifier(random_state=99))\n",
    "random_forest_clf.fit(df_train, y_train)\n",
    "preds = random_forest_clf.predict(df_test)\n",
    "score = random_forest_clf.score(df_test, y_test)"
   ]
  },
  {
   "cell_type": "code",
   "execution_count": null,
   "id": "d94c59c6-3a9d-49d7-bd91-c15e6b9af5aa",
   "metadata": {},
   "outputs": [],
   "source": [
    "score"
   ]
  },
  {
   "cell_type": "code",
   "execution_count": null,
   "id": "8b8aa932-b515-4a4f-ab57-5fb77be4f63a",
   "metadata": {},
   "outputs": [],
   "source": [
    "df_train.head()"
   ]
  },
  {
   "cell_type": "code",
   "execution_count": null,
   "id": "f7db7f39-f185-40a1-b24d-d608aee13367",
   "metadata": {},
   "outputs": [],
   "source": [
    "# classes = {'GALAXY':1,'STAR':2,'QSO':3}\n",
    "plt.rcParams[\"figure.figsize\"] = (6,4)\n",
    "from yellowbrick.classifier import ClassPredictionError\n",
    "visualizer = ClassPredictionError(random_forest_clf.named_steps['randomforestclassifier']) #, classes=classes)\n",
    "# set_palette('pastel')\n",
    "\n",
    "X_train = random_forest_clf.named_steps[\"columntransformer\"].fit_transform(df_train)\n",
    "X_test = random_forest_clf.named_steps[\"columntransformer\"].fit_transform(df_test)\n",
    "\n",
    "visualizer.fit(X_train, y_train)\n",
    "visualizer.score(X_test, y_test)\n",
    "visualizer.show();"
   ]
  },
  {
   "cell_type": "code",
   "execution_count": null,
   "id": "999f408e-f8b3-42a8-a6d5-d25ad99050d7",
   "metadata": {},
   "outputs": [],
   "source": [
    "from yellowbrick.classifier import ROCAUC\n",
    "rf_clf = random_forest_clf.named_steps['randomforestclassifier']\n",
    "visualizer = ROCAUC(rf_clf) #, classes = classes)\n",
    "# set_palette('bold')\n",
    "\n",
    "visualizer.fit(X_train, y_train)\n",
    "visualizer.score(X_test, y_test)\n",
    "visualizer.show()"
   ]
  },
  {
   "cell_type": "markdown",
   "id": "1a863863-1e1f-4434-9aea-bc08ce2f733c",
   "metadata": {},
   "source": [
    "## Optimisation : recherche aléatoire"
   ]
  },
  {
   "cell_type": "code",
   "execution_count": null,
   "id": "1d988577-083a-4fa7-8e6d-98f419125029",
   "metadata": {},
   "outputs": [],
   "source": [
    "from pprint import pprint\n",
    "rf_clf = RandomForestClassifier(random_state=99)\n",
    "\n",
    "print('Parameters en cours dutilisation:\\n')\n",
    "pprint(rf_clf.get_params())"
   ]
  },
  {
   "cell_type": "code",
   "execution_count": null,
   "id": "9c60be88-0233-4360-b240-5ba5b6474bf1",
   "metadata": {},
   "outputs": [],
   "source": [
    "from sklearn.model_selection import RandomizedSearchCV"
   ]
  },
  {
   "cell_type": "code",
   "execution_count": null,
   "id": "f1fbf385-0126-411f-be4c-a98dafea4179",
   "metadata": {},
   "outputs": [],
   "source": [
    "%%time\n",
    "\n",
    "# Nombre d'arbres dans la forêt aléatoire\n",
    "n_estimators = [int(x) for x in np.linspace(start = 200, stop = 2000, num = 10)]\n",
    "# Nombre de features à prendre en compte à chaque séparation\n",
    "max_features = ['auto', 'sqrt']\n",
    "# Profondeur des arbres\n",
    "max_depth = [int(x) for x in np.linspace(10, 110, num = 11)]\n",
    "max_depth.append(None)\n",
    "# Nombre minimum d'échantillons requis pour séparer un nœud\n",
    "min_samples_split = [2, 5, 10]\n",
    "# Nombre minimum d'échantillons requis à chaque nœud terminal\n",
    "min_samples_leaf = [1, 2, 4]\n",
    "# Méthode de sélection des échantillons pour l'entraînement de chaque arbre\n",
    "bootstrap = [True, False]\n",
    "\n",
    "# Créer la grille aléatoire\n",
    "random_grid = {'n_estimators': n_estimators,\n",
    "               'max_features': max_features,\n",
    "               'max_depth': max_depth,\n",
    "               'min_samples_split': min_samples_split,\n",
    "               'min_samples_leaf': min_samples_leaf,\n",
    "               'bootstrap': bootstrap}\n",
    "\n",
    "pprint(random_grid)"
   ]
  },
  {
   "cell_type": "code",
   "execution_count": null,
   "id": "f4c84da4-4ec2-4d0a-9f62-c183fc720534",
   "metadata": {},
   "outputs": [],
   "source": [
    "%%time\n",
    "# CPU times: user 12min 20s, sys: 1.14 s, total: 12min 21s\n",
    "# Wall time: 1h 10min 40s\n",
    "rf_clf_random = RandomizedSearchCV(\n",
    "    estimator=rf_clf,\n",
    "    param_distributions=random_grid,\n",
    "    n_iter=30,\n",
    "    cv=5,\n",
    "    verbose=2,\n",
    "    random_state=99,\n",
    "    n_jobs = -1)\n",
    "rf_clf_random.fit(X_train, y_train)"
   ]
  },
  {
   "cell_type": "code",
   "execution_count": null,
   "id": "0eb23644-9680-4f1e-ac90-7b5c22bc29c0",
   "metadata": {},
   "outputs": [],
   "source": [
    "rf_clf_random.best_params_"
   ]
  },
  {
   "cell_type": "code",
   "execution_count": null,
   "id": "f4ea327b-5e49-4810-8ff6-a5245afda28c",
   "metadata": {},
   "outputs": [],
   "source": [
    "best_rf_clf_random = rf_clf_random.best_estimator_"
   ]
  },
  {
   "cell_type": "code",
   "execution_count": null,
   "id": "9b2950b9-88dd-49fd-a2e8-9b362124be76",
   "metadata": {},
   "outputs": [],
   "source": [
    "best_rf_clf_preds = best_rf_clf_random.predict(X_test)"
   ]
  },
  {
   "cell_type": "code",
   "execution_count": null,
   "id": "8f593513-f6d7-43f0-84fb-e19922415a0a",
   "metadata": {},
   "outputs": [],
   "source": [
    "from yellowbrick.classifier import ROCAUC\n",
    "rf_clf = random_forest_clf.named_steps['randomforestclassifier']\n",
    "visualizer = ROCAUC(best_rf_clf_random) #, classes = classes)\n",
    "# set_palette('bold')\n",
    "\n",
    "visualizer.fit(X_train, y_train)\n",
    "visualizer.score(X_test, y_test)\n",
    "visualizer.show()"
   ]
  },
  {
   "cell_type": "code",
   "execution_count": null,
   "id": "29f9f78a-7cbf-4c7e-8913-98acaf7bf5dc",
   "metadata": {},
   "outputs": [],
   "source": []
  },
  {
   "cell_type": "markdown",
   "id": "47e8b074-7dbc-4fbc-92bb-8805a904d861",
   "metadata": {},
   "source": [
    "# Boosting : AdaBoost"
   ]
  },
  {
   "cell_type": "code",
   "execution_count": null,
   "id": "a881c1cc-dfe2-4d28-89ac-d3c44c80dacb",
   "metadata": {},
   "outputs": [],
   "source": [
    "adabost = make_pipeline(preprocessor, AdaBoostClassifier(DecisionTreeClassifier(random_state=99)))\n",
    "adabost"
   ]
  },
  {
   "cell_type": "code",
   "execution_count": null,
   "id": "2dbf1644-ed62-43c2-95a0-46d11ea37dec",
   "metadata": {},
   "outputs": [],
   "source": [
    "print(adabost)"
   ]
  },
  {
   "cell_type": "code",
   "execution_count": null,
   "id": "86e1d2af-1b60-4e6c-96f1-1da65d512ddf",
   "metadata": {},
   "outputs": [],
   "source": [
    "feature_importances_adaboost = evaluation_learning_curve(adabost, \"adaboostclassifier\", df_train, y_train, score='f1_micro', cv=5)"
   ]
  },
  {
   "cell_type": "markdown",
   "id": "8074dcbb-4e02-4e9f-97ee-11b2b60424c9",
   "metadata": {},
   "source": [
    "## Score d'importance des features"
   ]
  },
  {
   "cell_type": "code",
   "execution_count": null,
   "id": "0b6a8461-a208-4f5c-ad6a-b69ebe08cce6",
   "metadata": {},
   "outputs": [],
   "source": [
    "plt.rcParams[\"figure.figsize\"] = (10,2)\n",
    "df_feature_importances_adabost = pd.DataFrame(feature_importances_adaboost, index=df_train.columns)\n",
    "df_feature_importances_adabost .T\n",
    "N = len(df_train.columns)\n",
    "score_importances_adaboost = (df_feature_importances_adabost .values.reshape(1,-1)[0])\n",
    "ind = np.arange(N)    # the x locations for the groups\n",
    "width = 0.35       # the width of the bars: can also be len(x) sequence\n",
    "\n",
    "plt.bar(ind, score_importances_adaboost, width)\n",
    "plt.ylabel('Scores')\n",
    "plt.title('Score d importance par feature')\n",
    "plt.xticks(ind, list(df_train.columns.values))\n",
    "plt.show()"
   ]
  },
  {
   "cell_type": "markdown",
   "id": "be935c9b-9867-4033-883f-d8a67ea396b5",
   "metadata": {},
   "source": [
    "## Optimisation"
   ]
  },
  {
   "cell_type": "markdown",
   "id": "48521f8a-0253-466b-9653-0a53865170df",
   "metadata": {},
   "source": [
    "Les hyper-paramètres d'adaboost : \n",
    "\n",
    "- **base_estimator** : Ce paramètre est utilisé pour indiquer le type des algorithmes faibles \"weak learner\". Il peut s'agir d'un arbre de décision, d'une régression logistique, d'un SVC, etc. Par défaut, l'estimateur de base est DecisionTreeClassifier(max_depth=1).\n",
    "\n",
    "- **n_estimators** : Le nombre d'estimateurs de base ou d'apprenants faibles que nous voulons utiliser dans notre ensemble de données. Par défaut, la valeur de n_estimator est de 50.\n",
    "\n",
    "- **learning_rate** (taux d'apprentissage) : Ce paramètre est fourni pour réduire la contribution de chaque classificateur. Par défaut, il a une valeur de 1.\n",
    "\n",
    "- **algorithm** : Il peut s'agir de SAMME ou de SAMME.R. "
   ]
  },
  {
   "cell_type": "code",
   "execution_count": null,
   "id": "ebed0f85-4df0-4dfc-a103-10ab9561bf83",
   "metadata": {},
   "outputs": [],
   "source": [
    "def evaluation_model(model, X, y, score='f1_micro', cv=5):\n",
    "    scores = cross_val_score(model, X, y, scoring=score, cv=cv)\n",
    "    return scores\n",
    "\n",
    "\n",
    "def _get_models_by_n_estimators():\n",
    "    models = {}\n",
    "    n_estimators = [10, 20, 30, 40, 50, 500]\n",
    "    for n in n_estimators:\n",
    "        models[str(n)] = AdaBoostClassifier(n_estimators=n, random_state=99)\n",
    "    return models\n",
    "\n",
    "def _get_models_by_learning_rate():\n",
    "\tmodels = dict()\n",
    "\tfor i in np.arange(0.1, 2.1, 0.1):\n",
    "\t\tkey = '%.3f' % i\n",
    "\t\tmodels[key] = AdaBoostClassifier(learning_rate=i)\n",
    "\treturn models\n"
   ]
  },
  {
   "cell_type": "code",
   "execution_count": null,
   "id": "6ca1d691-a263-4eb3-b9a2-44fc7d0ed436",
   "metadata": {},
   "outputs": [],
   "source": [
    "results, names = list(), list()\n",
    "models = _get_models_by_n_estimators()\n",
    "for name, model in models.items():\n",
    "    scores = evaluation_model(model, X=X_train, y=y_train)\n",
    "    results.append(scores)\n",
    "    names.append(name)"
   ]
  },
  {
   "cell_type": "code",
   "execution_count": null,
   "id": "5f3b8560-04ad-439c-ba61-ff6a8c883daa",
   "metadata": {},
   "outputs": [],
   "source": [
    "models.keys()"
   ]
  },
  {
   "cell_type": "code",
   "execution_count": null,
   "id": "cf122ec9-feb8-4d87-86db-a4e9c87d4bc2",
   "metadata": {},
   "outputs": [],
   "source": [
    "df_scores_adaboost_n_estimators = pd.DataFrame(results, index=models.keys())\n",
    "df_scores_adaboost_n_estimators.T"
   ]
  },
  {
   "cell_type": "code",
   "execution_count": null,
   "id": "906c4f6e-a968-4062-9527-a05dbec681f3",
   "metadata": {},
   "outputs": [],
   "source": [
    "df_scores_adaboost_n_estimators.columns"
   ]
  },
  {
   "cell_type": "code",
   "execution_count": null,
   "id": "19c20f33-fb54-4708-86f3-3e46d796bc95",
   "metadata": {},
   "outputs": [],
   "source": [
    "fig = px.box(df_scores_adaboost_n_estimators, x=df_scores_adaboost_n_estimators.columns) #, y=\"total_bill\", color=\"smoker\")\n",
    "fig.update_traces(quartilemethod=\"exclusive\") # or \"inclusive\", or \"linear\" by default\n",
    "fig.show()"
   ]
  },
  {
   "cell_type": "code",
   "execution_count": null,
   "id": "ee948b12-5dca-4aa3-8666-2cb64481eb87",
   "metadata": {},
   "outputs": [],
   "source": [
    "plt.boxplot(results, labels=names, showmeans=True)\n",
    "plt.show()"
   ]
  },
  {
   "cell_type": "code",
   "execution_count": null,
   "id": "df30849a-8632-4c0c-b744-1f62298487f3",
   "metadata": {},
   "outputs": [],
   "source": [
    "%%time\n",
    "results_eta_learning, names_eta_learning = list(), list()\n",
    "models_eta_learning = _get_models_by_learning_rate()\n",
    "for name, model in models_eta_learning.items():\n",
    "    scores_eta_learning = evaluation_model(model, X=X_train, y=y_train)\n",
    "    results_eta_learning.append(scores_eta_learning)\n",
    "    names.append(name)"
   ]
  },
  {
   "cell_type": "code",
   "execution_count": null,
   "id": "eb2d4dcd-c262-4406-bd92-71f28a3292a5",
   "metadata": {},
   "outputs": [],
   "source": [
    "df_results_eta_learning = pd.DataFrame(results_eta_learning, index=models_eta_learning.keys())\n",
    "df_results_eta_learning.T"
   ]
  },
  {
   "cell_type": "code",
   "execution_count": null,
   "id": "dcff2629-2268-43ba-ad08-b707a3e4e23b",
   "metadata": {},
   "outputs": [],
   "source": [
    "list(models_eta_learning.keys())"
   ]
  },
  {
   "cell_type": "code",
   "execution_count": null,
   "id": "5bd2dce4-c490-4eb2-a3d5-9e2271b24016",
   "metadata": {},
   "outputs": [],
   "source": [
    "fig = px.box(df_results_eta_learning, x=df_results_eta_learning.columns) #, y=\"total_bill\", color=\"smoker\")\n",
    "fig.update_traces(quartilemethod=\"exclusive\") # or \"inclusive\", or \"linear\" by default\n",
    "fig.show()"
   ]
  },
  {
   "cell_type": "markdown",
   "id": "1ff92c6b-7d93-441e-b4da-83d22947a5dd",
   "metadata": {},
   "source": [
    "# Gradient Boosting"
   ]
  },
  {
   "cell_type": "code",
   "execution_count": null,
   "id": "cc450588-2f61-4c1a-a828-4b2c91f00d05",
   "metadata": {},
   "outputs": [],
   "source": [
    "# Initialisation du modèle XGBoost\n",
    "xgb_pipe = make_pipeline(preprocessor, XGBClassifier(random_state=99))\n",
    "xgb_pipe"
   ]
  },
  {
   "cell_type": "code",
   "execution_count": null,
   "id": "666ea5f8-e6a7-4581-92fe-7f7b925a7176",
   "metadata": {},
   "outputs": [],
   "source": [
    "print(xgb_pipe)"
   ]
  },
  {
   "cell_type": "code",
   "execution_count": null,
   "id": "82cb074b-1f0d-4999-99ec-9faf9ee3ec35",
   "metadata": {},
   "outputs": [],
   "source": [
    "# xgb_clf = xgb.XGBClassifier(random_state=99)\n",
    "# xgb_clf.fit(X_train, y_train_xgb)\n",
    "# ValueError: Invalid classes inferred from unique values of `y`.  Expected: [0 1 2], got [1 2 3]\n",
    "# On doit changer l'encodage de y de [1, 2, 3] à [0, 1, 2]"
   ]
  },
  {
   "cell_type": "code",
   "execution_count": null,
   "id": "99c131cd-bc58-4fc7-8c9c-9d7783fd5c8a",
   "metadata": {},
   "outputs": [],
   "source": [
    "class_map = {'GALAXY':0,'STAR':1,'QSO':2}\n",
    "\n",
    "y_train_xgb = data_stellar['class'].map(class_map)\n",
    "y_train_xgb = y_train_xgb.values\n",
    "\n",
    "y_test_xgb = data_stellar['class'].map(class_map)\n",
    "y_test_xgb = y_test_xgb.values"
   ]
  },
  {
   "cell_type": "code",
   "execution_count": null,
   "id": "0fe83139-a386-4f28-b02d-367601212feb",
   "metadata": {},
   "outputs": [],
   "source": [
    "# xgb_clf = xgb.XGBClassifier(random_state=99)\n",
    "# xgb_clf.fit(X_train, y_train_xgb)"
   ]
  },
  {
   "cell_type": "code",
   "execution_count": null,
   "id": "c29bbe3f-9d32-4fa5-81ee-eb3210b97da9",
   "metadata": {},
   "outputs": [],
   "source": [
    "data_train, data_test = train_test_split(data_stellar, test_size = 0.2, stratify=data_stellar[\"class\"], random_state=99)\n",
    "y_train_xgb = data_train['class']\n",
    "y_test_xgb = data_test['class']"
   ]
  },
  {
   "cell_type": "code",
   "execution_count": null,
   "id": "5105c3cc-9ff1-4cd4-942d-59faee94a13b",
   "metadata": {},
   "outputs": [],
   "source": [
    "y_train_xgb"
   ]
  },
  {
   "cell_type": "code",
   "execution_count": null,
   "id": "6038b8f8-4bf5-4229-b461-b609d5d71f75",
   "metadata": {
    "scrolled": true
   },
   "outputs": [],
   "source": [
    "from sklearn.preprocessing import LabelEncoder\n",
    "le = LabelEncoder()\n",
    "y_train_xgb = le.fit_transform(y_train_xgb)\n",
    "xgb_clf = xgb.XGBClassifier(random_state=99)\n",
    "xgb_clf.fit(X_train, y_train_xgb)"
   ]
  },
  {
   "cell_type": "code",
   "execution_count": null,
   "id": "1e24ddfc-2875-47d4-b0a4-4648889e123f",
   "metadata": {},
   "outputs": [],
   "source": []
  },
  {
   "cell_type": "code",
   "execution_count": null,
   "id": "1ab83134-43e8-431d-a343-80958cb1c21c",
   "metadata": {},
   "outputs": [],
   "source": [
    "y_test_xgb"
   ]
  },
  {
   "cell_type": "code",
   "execution_count": null,
   "id": "48f59a73-6b16-43ce-9c63-83751e0517f0",
   "metadata": {},
   "outputs": [],
   "source": [
    "y_test_xgb = le.fit_transform(y_test_xgb)"
   ]
  },
  {
   "cell_type": "code",
   "execution_count": null,
   "id": "088397de-d0be-4f4f-a9ab-0aa2e827cb26",
   "metadata": {},
   "outputs": [],
   "source": [
    "y_pred_xgb = xgb_clf.predict(X_test)\n",
    "y_pred_xgb "
   ]
  },
  {
   "cell_type": "code",
   "execution_count": null,
   "id": "261a7e8a-0069-41e4-8efa-7ec78898211e",
   "metadata": {},
   "outputs": [],
   "source": [
    "accuracy_score(y_test_xgb, y_pred_xgb)"
   ]
  },
  {
   "cell_type": "code",
   "execution_count": null,
   "id": "7872aa64-8db3-442c-b248-89d11ffd71a0",
   "metadata": {},
   "outputs": [],
   "source": [
    "cm = confusion_matrix(y_test_xgb, y_pred_xgb, labels=xgb_clf.classes_)\n",
    "fig, ax = plt.subplots(figsize=(9, 6))\n",
    "sns.heatmap(cm,annot=True,fmt=\"\",linewidth=.5, cmap=\"mako\",xticklabels=xgb_clf.classes_, yticklabels=xgb_clf.classes_)\n",
    "ax.set(xlabel=\"Predicted\", ylabel=\"True\")\n",
    "ax.xaxis.tick_top()\n",
    "plt.yticks(rotation=0)\n",
    "plt.show()"
   ]
  },
  {
   "cell_type": "code",
   "execution_count": null,
   "id": "a5334cb4-610c-4fae-830b-8be30330990e",
   "metadata": {},
   "outputs": [],
   "source": [
    "## Importance des features\n",
    "# Ref : https://xgboost.readthedocs.io/en/latest/python/python_api.html#module-xgboost.plotting\n",
    "\n",
    "#importance_type (str, default \"weight\") – How the importance is calculated: either “weight”, “gain”, or “cover”\n",
    "\n",
    "# ”weight” is the number of times a feature appears in a tree\n",
    "# ”gain” is the average gain of splits which use the feature\n",
    "# ”cover” is the average coverage of splits which use the feature where coverage is defined as the number of samples affected by the split"
   ]
  },
  {
   "cell_type": "code",
   "execution_count": null,
   "id": "f74caeed-2e98-4d6a-8a73-ee29f2de1c9f",
   "metadata": {},
   "outputs": [],
   "source": [
    "plt.rcParams['figure.figsize'] = (10.0, 8)\n",
    "xgb.plot_importance(xgb_clf)"
   ]
  },
  {
   "cell_type": "code",
   "execution_count": null,
   "id": "9ce153a3-b19e-4d19-b601-83f42f096c36",
   "metadata": {},
   "outputs": [],
   "source": [
    "xgb.plot_importance(xgb_clf, importance_type=\"gain\")"
   ]
  },
  {
   "cell_type": "code",
   "execution_count": null,
   "id": "37476c7e-dcf7-4f4d-af77-090c08fcb8db",
   "metadata": {},
   "outputs": [],
   "source": [
    "## Trçage d'un arbre \n",
    "# Demande l(installation ddu package 'graphviz'\n",
    "# pip install graphviz"
   ]
  },
  {
   "cell_type": "code",
   "execution_count": null,
   "id": "4517fbe4-b8a6-44a1-b19a-0738713f7598",
   "metadata": {},
   "outputs": [],
   "source": [
    "plt.rcParams['figure.figsize'] = (20.0, 8)\n",
    "\n",
    "# Tracer le premier arbre dans XGBoost\n",
    "xgb.plot_tree(xgb_clf, num_trees=0)"
   ]
  },
  {
   "cell_type": "markdown",
   "id": "e6f0935f-538b-4e5c-adfa-3339647a50e5",
   "metadata": {},
   "source": [
    "## Optimisation"
   ]
  },
  {
   "cell_type": "code",
   "execution_count": null,
   "id": "569212d9-fae5-4970-8727-02fbbd03c432",
   "metadata": {},
   "outputs": [],
   "source": [
    "rs_param_grid = {\n",
    "    'max_depth': list((range(3,12))),\n",
    "    'alpha': [0,0.001, 0.01,0.1,1],\n",
    "    'subsample': [0.5,0.75,1],\n",
    "    'learning_rate': np.linspace(0.01,0.5, 10),\n",
    "    'n_estimators': [10, 25, 40]\n",
    "    }\n",
    "\n",
    "\n",
    "xgb_clf = xgb.XGBClassifier(random_state=99)\n",
    "\n",
    "xgb_rs = RandomizedSearchCV(estimator=xgb_clf,param_distributions=rs_param_grid, \n",
    "                                cv=5, verbose=2, random_state=99, scoring='f1_micro')\n",
    "\n",
    "xgb_rs.fit(X_train, y_train_xgb)\n",
    "\n",
    "print(\"Meilleurs paramètres trouvés: \", xgb_rs.best_params_)\n",
    "print(\"Meilleure performance: \", xgb_rs.best_score_)"
   ]
  },
  {
   "cell_type": "code",
   "execution_count": null,
   "id": "6ab3340a-7527-4f8a-87dc-716a36f35a86",
   "metadata": {},
   "outputs": [],
   "source": [
    "from yellowbrick.classifier import ROCAUC\n",
    "# rf_clf = random_forest_clf.named_steps['randomforestclassifier']\n",
    "visualizer = ROCAUC(xgb_rs.best_estimator_) #, classes = classes)\n",
    "# set_palette('bold')\n",
    "\n",
    "visualizer.fit(X_train,  y_train_xgb)\n",
    "visualizer.score(X_test, y_test_xgb)\n",
    "visualizer.show()"
   ]
  },
  {
   "cell_type": "markdown",
   "id": "60c90891-796f-4863-a4e9-6c853474f502",
   "metadata": {},
   "source": [
    "# Stacking"
   ]
  },
  {
   "cell_type": "code",
   "execution_count": null,
   "id": "5bf9221a-9f4d-4c98-9506-832804eac4f5",
   "metadata": {},
   "outputs": [],
   "source": [
    "# Définition des prédicteurs (estimators)\n",
    "from sklearn.ensemble import StackingClassifier\n",
    "from sklearn.linear_model import LogisticRegression\n",
    "\n",
    "\n",
    "dtc =  DecisionTreeClassifier()\n",
    "rfc = RandomForestClassifier()\n",
    "knn =  KNeighborsClassifier()\n",
    "xgb = XGBClassifier()\n",
    "\n",
    "estimator_list = [\n",
    "    ('dtc', dtc ),\n",
    "    ('rfc ', rfc ),\n",
    "    ('knn ',knn ),\n",
    "    ('xgb',xgb),\n",
    " ]\n",
    "\n",
    "# Construire un modèle de pile\n",
    "stack_model = StackingClassifier(\n",
    "    estimators=estimator_list, final_estimator=LogisticRegression()\n",
    ")\n"
   ]
  },
  {
   "cell_type": "code",
   "execution_count": null,
   "id": "3e7c4674-100b-4732-b20b-ebec6c2c49f5",
   "metadata": {},
   "outputs": [],
   "source": [
    "# Training\n",
    "stack_model.fit(X_train, y_train_xgb)"
   ]
  },
  {
   "cell_type": "code",
   "execution_count": null,
   "id": "b8df711d-ced2-4170-958e-4c4a9efeea80",
   "metadata": {},
   "outputs": [],
   "source": [
    "\n",
    "# Calcul des prédictions\n",
    "y_test_pred = stack_model.predict(X_test)"
   ]
  },
  {
   "cell_type": "code",
   "execution_count": null,
   "id": "66679487-0327-49a7-8bb9-b52bab44c634",
   "metadata": {},
   "outputs": [],
   "source": [
    "accuracy_score(y_test_xgb, y_pred_xgb)"
   ]
  },
  {
   "cell_type": "code",
   "execution_count": null,
   "id": "091f9734-5018-45e9-969b-5922384e5034",
   "metadata": {},
   "outputs": [],
   "source": []
  }
 ],
 "metadata": {
  "kernelspec": {
   "display_name": "Python 3 (ipykernel)",
   "language": "python",
   "name": "python3"
  },
  "language_info": {
   "codemirror_mode": {
    "name": "ipython",
    "version": 3
   },
   "file_extension": ".py",
   "mimetype": "text/x-python",
   "name": "python",
   "nbconvert_exporter": "python",
   "pygments_lexer": "ipython3",
   "version": "3.11.9"
  }
 },
 "nbformat": 4,
 "nbformat_minor": 5
}
